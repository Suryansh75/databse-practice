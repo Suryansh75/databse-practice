{
 "cells": [
  {
   "cell_type": "code",
   "execution_count": 29,
   "id": "8c067de1",
   "metadata": {},
   "outputs": [],
   "source": [
    "import mysql.connector"
   ]
  },
  {
   "cell_type": "code",
   "execution_count": 41,
   "id": "e79b0266",
   "metadata": {},
   "outputs": [
    {
     "name": "stdout",
     "output_type": "stream",
     "text": [
      "connected\n",
      "('dbt2',)\n",
      "('information_schema',)\n",
      "('mysql',)\n",
      "('pdb',)\n",
      "('performance_schema',)\n",
      "('sakila',)\n",
      "('sys',)\n",
      "('world',)\n"
     ]
    }
   ],
   "source": [
    "\n",
    "    conn = mysql.connector.connect(user='root',\n",
    "                               password='evilprince75',\n",
    "                               host='localhost',\n",
    "                               port=3306)\n",
    "    if(conn.is_connected()):\n",
    "        print('connected')\n",
    "        sql= 'SHOW DATABASES'\n",
    "        myc = conn.cursor()\n",
    "        myc.execute(sql)\n",
    "        for d in myc:\n",
    "            print(d)\n",
    "        myc.close\n",
    "        conn.close()"
   ]
  },
  {
   "cell_type": "code",
   "execution_count": 52,
   "id": "2b389424",
   "metadata": {},
   "outputs": [
    {
     "name": "stdout",
     "output_type": "stream",
     "text": [
      "connected\n"
     ]
    }
   ],
   "source": [
    "try:\n",
    "    \n",
    "    conn = mysql.connector.connect(user='root',\n",
    "                               password='evilprince75',\n",
    "                               host='localhost',\n",
    "                               database='pdb',    \n",
    "                               port=3306)\n",
    "    if(conn.is_connected()):\n",
    "        print('connected')\n",
    "except:\n",
    "        print('Unable to connect')\n",
    "sql = 'CREATE TABLE student1(stuid INT AUTO_INCREMENT PRIMARY KEY, name VARCHAR(20), roll INT, fees FLOAT)'\n",
    "myc = conn.cursor()\n",
    "myc.execute(sql)\n",
    "myc.close()\n",
    "conn.close()"
   ]
  },
  {
   "cell_type": "code",
   "execution_count": 55,
   "id": "e8acb612",
   "metadata": {},
   "outputs": [
    {
     "name": "stdout",
     "output_type": "stream",
     "text": [
      "connected\n",
      "('city',)\n",
      "('country',)\n",
      "('countrylanguage',)\n"
     ]
    }
   ],
   "source": [
    "try:\n",
    "    \n",
    "    conn = mysql.connector.connect(user='root',\n",
    "                               password='evilprince75',\n",
    "                               host='localhost',\n",
    "                               database='world',    \n",
    "                               port=3306)\n",
    "    if(conn.is_connected()):\n",
    "        print('connected')\n",
    "except:\n",
    "        print('Unable to connect')\n",
    "sql = 'SHOW TABLES'\n",
    "myc = conn.cursor()\n",
    "myc.execute(sql)\n",
    "for t in myc:\n",
    "    print(t)\n",
    "myc.close()\n",
    "conn.close()"
   ]
  },
  {
   "cell_type": "code",
   "execution_count": 65,
   "id": "90ec745c",
   "metadata": {},
   "outputs": [
    {
     "name": "stdout",
     "output_type": "stream",
     "text": [
      "connected\n",
      "row inserted\n"
     ]
    }
   ],
   "source": [
    "try:\n",
    "    \n",
    "    conn = mysql.connector.connect(user='root',\n",
    "                               password='evilprince75',\n",
    "                               host='localhost',\n",
    "                               database='pdb',    \n",
    "                               port=3306)\n",
    "    if(conn.is_connected()):\n",
    "        print('connected')\n",
    "except:\n",
    "        print('Unable to connect')\n",
    "sql = 'INSERT INTO student(name, roll, fees) VALUES(\"Rohan\", 97, 10000.52), (\"jai\", 98, 20000.52), (\"veeru\", 99, 30000.52)'\n",
    "myc = conn.cursor()\n",
    "try:\n",
    "    myc.execute(sql)\n",
    "    conn.commit()\n",
    "    print('row inserted')\n",
    "except:\n",
    "    conn.roolback()\n",
    "    print('Unable to Insert Data')\n",
    "myc.close()\n",
    "conn.close()"
   ]
  },
  {
   "cell_type": "code",
   "execution_count": 62,
   "id": "51388f51",
   "metadata": {},
   "outputs": [
    {
     "name": "stdout",
     "output_type": "stream",
     "text": [
      "connected\n",
      "('student',)\n",
      "('student1',)\n"
     ]
    }
   ],
   "source": [
    "try:\n",
    "    \n",
    "    conn = mysql.connector.connect(user='root',\n",
    "                               password='evilprince75',\n",
    "                               host='localhost',\n",
    "                               database='pdb',    \n",
    "                               port=3306)\n",
    "    if(conn.is_connected()):\n",
    "        print('connected')\n",
    "except:\n",
    "        print('Unable to connect')\n",
    "sql = 'SHOW TABLES'\n",
    "myc = conn.cursor()\n",
    "myc.execute(sql)\n",
    "for t in myc:\n",
    "    print(t)\n",
    "myc.close()\n",
    "conn.close()"
   ]
  },
  {
   "cell_type": "code",
   "execution_count": 66,
   "id": "6d007e54",
   "metadata": {},
   "outputs": [
    {
     "name": "stdout",
     "output_type": "stream",
     "text": [
      "connected\n",
      "3 row inserted\n"
     ]
    }
   ],
   "source": [
    "try:\n",
    "    \n",
    "    conn = mysql.connector.connect(user='root',\n",
    "                               password='evilprince75',\n",
    "                               host='localhost',\n",
    "                               database='pdb',    \n",
    "                               port=3306)\n",
    "    if(conn.is_connected()):\n",
    "        print('connected')\n",
    "except:\n",
    "        print('Unable to connect')\n",
    "sql = 'INSERT INTO student(name, roll, fees) VALUES(\"Sonam\", 100, 10000.52), (\"Jyoti\", 101, 20000.52), (\"Aman\", 102, 30000.52)'\n",
    "myc = conn.cursor()\n",
    "try:\n",
    "    myc.execute(sql)\n",
    "    conn.commit()\n",
    "    print(myc.rowcount,'row inserted')\n",
    "except:\n",
    "    conn.roolback()\n",
    "    print('Unable to Insert Data')\n",
    "myc.close()\n",
    "conn.close()"
   ]
  },
  {
   "cell_type": "code",
   "execution_count": 67,
   "id": "a330d8a3",
   "metadata": {},
   "outputs": [
    {
     "name": "stdout",
     "output_type": "stream",
     "text": [
      "connected\n",
      "14\n"
     ]
    }
   ],
   "source": [
    "try:\n",
    "    \n",
    "    conn = mysql.connector.connect(user='root',\n",
    "                               password='evilprince75',\n",
    "                               host='localhost',\n",
    "                               database='pdb',    \n",
    "                               port=3306)\n",
    "    if(conn.is_connected()):\n",
    "        print('connected')\n",
    "except:\n",
    "        print('Unable to connect')\n",
    "sql = 'INSERT INTO student(name, roll, fees) VALUES(\"Sonam\", 100, 10000.52), (\"Jyoti\", 101, 20000.52), (\"Aman\", 102, 30000.52)'\n",
    "myc = conn.cursor()\n",
    "try:\n",
    "    myc.execute(sql)\n",
    "    conn.commit()\n",
    "    print(myc.lastrowid)\n",
    "except:\n",
    "    conn.roolback()\n",
    "    print('Unable to Insert Data')\n",
    "myc.close()\n",
    "conn.close()"
   ]
  },
  {
   "cell_type": "code",
   "execution_count": 68,
   "id": "b22f3405",
   "metadata": {},
   "outputs": [
    {
     "name": "stdout",
     "output_type": "stream",
     "text": [
      "connected\n",
      "1 Row Deleted\n"
     ]
    }
   ],
   "source": [
    "try:\n",
    "    \n",
    "    conn = mysql.connector.connect(user='root',\n",
    "                               password='evilprince75',\n",
    "                               host='localhost',\n",
    "                               database='pdb',    \n",
    "                               port=3306)\n",
    "    if(conn.is_connected()):\n",
    "        print('connected')\n",
    "except:\n",
    "        print('Unable to connect')\n",
    "sql = 'DELETE FROM Student WHERE stuid = 14'\n",
    "myc = conn.cursor()\n",
    "try:\n",
    "    myc.execute(sql)\n",
    "    conn.commit()\n",
    "    print(myc.rowcount,'Row Deleted')\n",
    "except:\n",
    "    conn.roolback()\n",
    "    print('Unable to Delete Data')\n",
    "myc.close()\n",
    "conn.close()"
   ]
  },
  {
   "cell_type": "code",
   "execution_count": 69,
   "id": "0d9c7650",
   "metadata": {},
   "outputs": [
    {
     "name": "stdout",
     "output_type": "stream",
     "text": [
      "connected\n",
      "1 fees updated\n"
     ]
    }
   ],
   "source": [
    "try:\n",
    "    \n",
    "    conn = mysql.connector.connect(user='root',\n",
    "                               password='evilprince75',\n",
    "                               host='localhost',\n",
    "                               database='pdb',    \n",
    "                               port=3306)\n",
    "    if(conn.is_connected()):\n",
    "        print('connected')\n",
    "except:\n",
    "        print('Unable to connect')\n",
    "sql = 'UPDATE student SET fees=200 WHERE stuid = 15'\n",
    "myc = conn.cursor()\n",
    "try:\n",
    "    myc.execute(sql)\n",
    "    conn.commit()\n",
    "    print(myc.rowcount,'fees updated')\n",
    "except:\n",
    "    conn.roolback()\n",
    "    print('Unable to Update Data')\n",
    "myc.close()\n",
    "conn.close()"
   ]
  },
  {
   "cell_type": "code",
   "execution_count": 73,
   "id": "822c95e6",
   "metadata": {},
   "outputs": [
    {
     "name": "stdout",
     "output_type": "stream",
     "text": [
      "connected\n",
      "(1, 'Suryansh', 98, 10000.5)\n",
      "(2, 'Suryansh', 98, 10000.5)\n",
      "(3, 'Aashray', 95, 10000.5)\n",
      "(4, 'Sumit', 95, 10000.5)\n",
      "(5, 'Rahul', 95, 10000.5)\n",
      "(6, 'Hrithik', 95, 10000.5)\n",
      "(7, 'Rohan', 97, 10000.5)\n",
      "(8, 'Rohan', 97, 10000.5)\n",
      "(9, 'jai', 98, 20000.5)\n",
      "(10, 'veeru', 99, 30000.5)\n",
      "(11, 'Sonam', 100, 10000.5)\n",
      "(12, 'Jyoti', 101, 20000.5)\n",
      "(13, 'Aman', 102, 30000.5)\n",
      "(15, 'Jyoti', 101, 200.0)\n",
      "(16, 'Aman', 102, 30000.5)\n",
      "Total Rows 15\n"
     ]
    }
   ],
   "source": [
    "#fetchone\n",
    "try:\n",
    "    \n",
    "    conn = mysql.connector.connect(user='root',\n",
    "                               password='evilprince75',\n",
    "                               host='localhost',\n",
    "                               database='pdb',    \n",
    "                               port=3306)\n",
    "    if(conn.is_connected()):\n",
    "        print('connected')\n",
    "except:\n",
    "        print('Unable to connect')\n",
    "sql = 'SELECT * from student'\n",
    "myc = conn.cursor()\n",
    "try:\n",
    "    myc.execute(sql)\n",
    "    row = myc.fetchone()\n",
    "    while row is not None:\n",
    "        print(row)\n",
    "        row = myc.fetchone()\n",
    "    print('Total Rows',myc.rowcount)\n",
    "except:\n",
    "    conn.roolback()\n",
    "    print('Unable to Show Data')\n",
    "myc.close()\n",
    "conn.close()"
   ]
  },
  {
   "cell_type": "code",
   "execution_count": 74,
   "id": "2e724998",
   "metadata": {},
   "outputs": [
    {
     "name": "stdout",
     "output_type": "stream",
     "text": [
      "connected\n",
      "stud ID: 1 Name: Suryansh Roll 98 Fees: 10000.5\n",
      "stud ID: 2 Name: Suryansh Roll 98 Fees: 10000.5\n",
      "stud ID: 3 Name: Aashray Roll 95 Fees: 10000.5\n",
      "stud ID: 4 Name: Sumit Roll 95 Fees: 10000.5\n",
      "stud ID: 5 Name: Rahul Roll 95 Fees: 10000.5\n",
      "stud ID: 6 Name: Hrithik Roll 95 Fees: 10000.5\n",
      "stud ID: 7 Name: Rohan Roll 97 Fees: 10000.5\n",
      "stud ID: 8 Name: Rohan Roll 97 Fees: 10000.5\n",
      "stud ID: 9 Name: jai Roll 98 Fees: 20000.5\n",
      "stud ID: 10 Name: veeru Roll 99 Fees: 30000.5\n",
      "stud ID: 11 Name: Sonam Roll 100 Fees: 10000.5\n",
      "stud ID: 12 Name: Jyoti Roll 101 Fees: 20000.5\n",
      "stud ID: 13 Name: Aman Roll 102 Fees: 30000.5\n",
      "stud ID: 15 Name: Jyoti Roll 101 Fees: 200.0\n",
      "stud ID: 16 Name: Aman Roll 102 Fees: 30000.5\n",
      "Total Rows 15\n"
     ]
    }
   ],
   "source": [
    "try:\n",
    "    \n",
    "    conn = mysql.connector.connect(user='root',\n",
    "                               password='evilprince75',\n",
    "                               host='localhost',\n",
    "                               database='pdb',    \n",
    "                               port=3306)\n",
    "    if(conn.is_connected()):\n",
    "        print('connected')\n",
    "except:\n",
    "        print('Unable to connect')\n",
    "sql = 'SELECT * from student'\n",
    "myc = conn.cursor()\n",
    "try:\n",
    "    myc.execute(sql)\n",
    "    row = myc.fetchone()\n",
    "    while row is not None:\n",
    "        stuid = row[0]\n",
    "        name = row[1]\n",
    "        roll = row[2]\n",
    "        fees = row[3]\n",
    "        print(f'stud ID: {stuid} Name: {name} Roll {roll} Fees: {fees}')\n",
    "        row = myc.fetchone()\n",
    "    print('Total Rows',myc.rowcount)\n",
    "except:\n",
    "    conn.roolback()\n",
    "    print('Unable to Show Data')\n",
    "myc.close()\n",
    "conn.close()"
   ]
  },
  {
   "cell_type": "code",
   "execution_count": 75,
   "id": "c6dbfcd7",
   "metadata": {},
   "outputs": [
    {
     "name": "stdout",
     "output_type": "stream",
     "text": [
      "connected\n",
      "('Suryansh', 98)\n",
      "('Suryansh', 98)\n",
      "('Aashray', 95)\n",
      "('Sumit', 95)\n",
      "('Rahul', 95)\n",
      "('Hrithik', 95)\n",
      "('Rohan', 97)\n",
      "('Rohan', 97)\n",
      "('jai', 98)\n",
      "('veeru', 99)\n",
      "('Sonam', 100)\n",
      "('Jyoti', 101)\n",
      "('Aman', 102)\n",
      "('Jyoti', 101)\n",
      "('Aman', 102)\n",
      "Total Rows 15\n"
     ]
    }
   ],
   "source": [
    "try:\n",
    "    \n",
    "    conn = mysql.connector.connect(user='root',\n",
    "                               password='evilprince75',\n",
    "                               host='localhost',\n",
    "                               database='pdb',    \n",
    "                               port=3306)\n",
    "    if(conn.is_connected()):\n",
    "        print('connected')\n",
    "except:\n",
    "        print('Unable to connect')\n",
    "sql = 'SELECT name,roll from student'\n",
    "myc = conn.cursor()\n",
    "try:\n",
    "    myc.execute(sql)\n",
    "    row = myc.fetchone()\n",
    "    while row is not None:\n",
    "        print(row)\n",
    "        row = myc.fetchone()\n",
    "    print('Total Rows',myc.rowcount)\n",
    "except:\n",
    "    conn.roolback()\n",
    "    print('Unable to Show Data')\n",
    "myc.close()\n",
    "conn.close()"
   ]
  },
  {
   "cell_type": "code",
   "execution_count": 80,
   "id": "dd5ec5e8",
   "metadata": {},
   "outputs": [
    {
     "name": "stdout",
     "output_type": "stream",
     "text": [
      "connected\n",
      "stud ID: 1 Name: Suryansh Roll 98 Fees: 10000.5\n",
      "stud ID: 2 Name: Suryansh Roll 98 Fees: 10000.5\n",
      "stud ID: 3 Name: Aashray Roll 95 Fees: 10000.5\n",
      "stud ID: 4 Name: Sumit Roll 95 Fees: 10000.5\n",
      "stud ID: 5 Name: Rahul Roll 95 Fees: 10000.5\n",
      "stud ID: 6 Name: Hrithik Roll 95 Fees: 10000.5\n",
      "stud ID: 7 Name: Rohan Roll 97 Fees: 10000.5\n",
      "stud ID: 8 Name: Rohan Roll 97 Fees: 10000.5\n",
      "stud ID: 9 Name: jai Roll 98 Fees: 20000.5\n",
      "stud ID: 10 Name: veeru Roll 99 Fees: 30000.5\n",
      "stud ID: 11 Name: Sonam Roll 100 Fees: 10000.5\n",
      "stud ID: 12 Name: Jyoti Roll 101 Fees: 20000.5\n",
      "stud ID: 13 Name: Aman Roll 102 Fees: 30000.5\n",
      "stud ID: 15 Name: Jyoti Roll 101 Fees: 200.0\n",
      "stud ID: 16 Name: Aman Roll 102 Fees: 30000.5\n",
      "Total Rows 15\n"
     ]
    }
   ],
   "source": [
    "#fetchall\n",
    "try:\n",
    "    \n",
    "    conn = mysql.connector.connect(user='root',\n",
    "                               password='evilprince75',\n",
    "                               host='localhost',\n",
    "                               database='pdb',    \n",
    "                               port=3306)\n",
    "    if(conn.is_connected()):\n",
    "        print('connected')\n",
    "except:\n",
    "        print('Unable to connect')\n",
    "sql = 'SELECT * from student'\n",
    "myc = conn.cursor()\n",
    "try:\n",
    "    myc.execute(sql)\n",
    "    rows = myc.fetchall()\n",
    "    for r in rows:\n",
    "        stuid = r[0]\n",
    "        name = r[1]\n",
    "        roll = r[2]\n",
    "        fees = r[3]\n",
    "        print(f'stud ID: {stuid} Name: {name} Roll {roll} Fees: {fees}')\n",
    "        row = myc.fetchone()\n",
    "    print('Total Rows',myc.rowcount)\n",
    "except:\n",
    "    conn.roolback()\n",
    "    print('Unable to Show Data')\n",
    "myc.close()\n",
    "conn.close()"
   ]
  },
  {
   "cell_type": "code",
   "execution_count": 84,
   "id": "996b3887",
   "metadata": {},
   "outputs": [
    {
     "name": "stdout",
     "output_type": "stream",
     "text": [
      "connected\n",
      "stud ID: 1 Name: Suryansh Roll 98 Fees: 10000.5\n",
      "stud ID: 2 Name: Suryansh Roll 98 Fees: 10000.5\n",
      "stud ID: 3 Name: Aashray Roll 95 Fees: 10000.5\n",
      "stud ID: 4 Name: Sumit Roll 95 Fees: 10000.5\n",
      "stud ID: 5 Name: Rahul Roll 95 Fees: 10000.5\n",
      "Total Rows 15\n"
     ]
    }
   ],
   "source": [
    "#fetchmany\n",
    "try:\n",
    "    \n",
    "    conn = mysql.connector.connect(user='root',\n",
    "                               password='evilprince75',\n",
    "                               host='localhost',\n",
    "                               database='pdb',    \n",
    "                               port=3306)\n",
    "    if(conn.is_connected()):\n",
    "        print('connected')\n",
    "except:\n",
    "        print('Unable to connect')\n",
    "sql = 'SELECT * from student'\n",
    "myc = conn.cursor(buffered= True)\n",
    "try:\n",
    "    myc.execute(sql)\n",
    "    rows = myc.fetchmany(size=5)\n",
    "    for r in rows:\n",
    "        stuid = r[0]\n",
    "        name = r[1]\n",
    "        roll = r[2]\n",
    "        fees = r[3]\n",
    "        print(f'stud ID: {stuid} Name: {name} Roll {roll} Fees: {fees}')\n",
    "        row = myc.fetchone()\n",
    "    print('Total Rows',myc.rowcount)\n",
    "except:\n",
    "    conn.roolback()\n",
    "    print('Unable to Show Data')\n",
    "myc.close()\n",
    "conn.close()"
   ]
  },
  {
   "cell_type": "code",
   "execution_count": null,
   "id": "77f68d42",
   "metadata": {},
   "outputs": [],
   "source": []
  }
 ],
 "metadata": {
  "kernelspec": {
   "display_name": "Python 3 (ipykernel)",
   "language": "python",
   "name": "python3"
  },
  "language_info": {
   "codemirror_mode": {
    "name": "ipython",
    "version": 3
   },
   "file_extension": ".py",
   "mimetype": "text/x-python",
   "name": "python",
   "nbconvert_exporter": "python",
   "pygments_lexer": "ipython3",
   "version": "3.9.7"
  }
 },
 "nbformat": 4,
 "nbformat_minor": 5
}
